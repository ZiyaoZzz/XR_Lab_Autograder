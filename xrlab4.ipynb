{
 "cells": [
  {
   "cell_type": "markdown",
   "metadata": {},
   "source": [
    "COGS 160 Auto-Grader Notebook for Architect Assignments"
   ]
  },
  {
   "cell_type": "markdown",
   "metadata": {},
   "source": [
    "Imports"
   ]
  },
  {
   "cell_type": "code",
   "execution_count": 1,
   "metadata": {},
   "outputs": [
    {
     "name": "stderr",
     "output_type": "stream",
     "text": [
      "/opt/anaconda3/envs/langchain_setup_llama/lib/python3.10/site-packages/tqdm/auto.py:21: TqdmWarning: IProgress not found. Please update jupyter and ipywidgets. See https://ipywidgets.readthedocs.io/en/stable/user_install.html\n",
      "  from .autonotebook import tqdm as notebook_tqdm\n"
     ]
    }
   ],
   "source": [
    "import os\n",
    "import re\n",
    "import json\n",
    "import fitz  \n",
    "from PIL import Image\n",
    "from io import BytesIO\n",
    "from urllib.parse import urlparse\n",
    "import spacy\n",
    "import google.generativeai as genai\n",
    "from dotenv import load_dotenv\n",
    "from IPython.display import display\n",
    "nlp = spacy.load(\"en_core_web_sm\")"
   ]
  },
  {
   "cell_type": "markdown",
   "metadata": {},
   "source": [
    "Configure Gemini"
   ]
  },
  {
   "cell_type": "code",
   "execution_count": 2,
   "metadata": {},
   "outputs": [],
   "source": [
    "from dotenv import load_dotenv\n",
    "load_dotenv()\n",
    "GEMINI_API_KEY = os.getenv(\"GEMINI_API_KEY\")\n",
    "genai.configure(api_key=GEMINI_API_KEY) \n",
    "text_model = genai.GenerativeModel(\"gemini-1.5-pro-latest\")\n",
    "vision_model = genai.GenerativeModel(\"gemini-pro-vision\")"
   ]
  },
  {
   "cell_type": "code",
   "execution_count": null,
   "metadata": {},
   "outputs": [],
   "source": [
    "rubric = {\n",
    "    \"architect_selection\": 5,\n",
    "    \"organization\": 5,\n",
    "    \"biographical_content\": 5,\n",
    "    \"bio_references\": 5,\n",
    "    \"image_quality\": 5,\n",
    "    \"image_citations\": 5,\n",
    "    \"coverage_10_buildings\": 5,\n",
    "    \"personal_bio_photo\": 5,\n",
    "    \"presentation_polish\": 5\n",
    "}\n",
    "\n",
    "def extract_text_from_pdf(pdf_path):\n",
    "    print(f\"🔍 Extracting text from: {pdf_path}\")\n",
    "    text = \"\"\n",
    "    with fitz.open(pdf_path) as doc:\n",
    "        for page in doc:\n",
    "            text += page.get_text()\n",
    "    print(\"✔ Extracted text from PDF\")\n",
    "    return text\n",
    "\n",
    "def extract_images_from_pdf(pdf_path, min_width=1200, save_folder=\"/Users/tanishqsingh/Desktop/XR_Lab/Extracted_images\"):\n",
    "    print(f\"🔍 Extracting images from: {pdf_path}\")\n",
    "    if not os.path.exists(save_folder):\n",
    "        os.makedirs(save_folder)\n",
    "    image_data = []\n",
    "    with fitz.open(pdf_path) as doc:\n",
    "        for page_index in range(len(doc)):\n",
    "            images = doc[page_index].get_images(full=True)\n",
    "            for img_index, img in enumerate(images):\n",
    "                xref = img[0]\n",
    "                base_image = doc.extract_image(xref)\n",
    "                img_bytes = base_image[\"image\"]\n",
    "                img_pil = Image.open(BytesIO(img_bytes)).convert(\"RGB\")\n",
    "                width, height = img_pil.size\n",
    "                img_pil.save(os.path.join(save_folder, f\"page{page_index+1}_img{img_index+1}.png\"))\n",
    "                image_data.append({\n",
    "                    \"page\": page_index + 1,\n",
    "                    \"width\": width,\n",
    "                    \"height\": height,\n",
    "                    \"image\": img_pil,\n",
    "                    \"is_high_res\": width >= min_width\n",
    "                })\n",
    "    print(f\"✔ Extracted {len(image_data)} images from PDF\")\n",
    "    return image_data\n",
    "\n",
    "def extract_references_from_text(text):\n",
    "    print(\"🔍 Extracting references from text\")\n",
    "    lines = text.split(\"\\n\")\n",
    "    references = [line for line in lines if re.search(r\"\\(\\d{4}\\)\", line) and any(x in line.lower() for x in [\"doi\", \"https://\", \"archdaily\", \"e-architect\"])]\n",
    "    return references\n",
    "\n",
    "def gemini_full_rubric_eval(text, architect_name, debug=True):\n",
    "    print(\"🔍 Gemini evaluating extended rubric\")\n",
    "    prompt = f\"\"\"\n",
    "You are grading a student submission for an architecture assignment on the architect {architect_name}.\n",
    "This project includes a biography, building analysis, and images.\n",
    "Evaluate the following 9 categories from 1–5 as per this rubric:\n",
    "\n",
    "1. Architect Selection & Scope\n",
    "2. Organization & Document Setup\n",
    "3. Biographical Content (750 words)\n",
    "4. Citation of Architect Biography\n",
    "5. Selection & Quality of Images\n",
    "6. Image Citation & Attribution\n",
    "7. Coverage of 10 Famous Buildings\n",
    "8. Personal Bio & Photo\n",
    "9. Overall Completeness & Presentation\n",
    "\n",
    "Provide a paragraph of feedback for each and return the score in parentheses at the end of each line (e.g., (3/5)).\n",
    "\"\"\"\n",
    "    response = text_model.generate_content([prompt, text])\n",
    "    if debug:\n",
    "        print(response.text)\n",
    "\n",
    "    scores = {}\n",
    "    for key, label in {\n",
    "        \"architect_selection\": \"Architect Selection\",\n",
    "        \"organization\": \"Organization\",\n",
    "        \"biographical_content\": \"Biographical Content\",\n",
    "        \"bio_references\": \"Citation of Architect Biography\",\n",
    "        \"image_quality\": \"Selection & Quality of Images\",\n",
    "        \"image_citations\": \"Image Citation\",\n",
    "        \"coverage_10_buildings\": \"Coverage of 10 Famous Buildings\",\n",
    "        \"personal_bio_photo\": \"Personal Bio\",\n",
    "        \"presentation_polish\": \"Overall Presentation\"\n",
    "    }.items():\n",
    "        match = re.search(rf\"\\*\\*{re.escape(label)}.*?\\((\\d)/5\\)\", response.text)\n",
    "        if match:\n",
    "            scores[key] = {\"score\": int(match.group(1))}\n",
    "        else:\n",
    "            scores[key] = {\"score\": 0}\n",
    "\n",
    "    return scores\n",
    "\n",
    "def evaluate_image_relevance(image_data, architect_name, debug=False):\n",
    "    print(\"🔍 Evaluating image relevance using Gemini Vision\")\n",
    "    total_score = 0\n",
    "    count = 0\n",
    "    for img in image_data:\n",
    "        prompt = f\"Is this image visually related to a building designed by {architect_name}? Score from 1 (not relevant) to 5 (highly relevant), and explain.\"\n",
    "        try:\n",
    "            response = vision_model.generate_content([img[\"image\"], prompt])\n",
    "            if debug:\n",
    "                print(f\"📷 Page {img['page']} Image Relevance Feedback:\\n{response.text}\\n\")\n",
    "            match = re.search(r\"(\\d)/5\", response.text)\n",
    "            if match:\n",
    "                total_score += int(match.group(1))\n",
    "                count += 1\n",
    "        except Exception as e:\n",
    "            print(f\"⚠️ Error processing image on page {img['page']}: {e}\")\n",
    "    avg_score = round(total_score / count, 2) if count else 0\n",
    "    return {\"avg_score\": avg_score, \"score\": min(round(avg_score), 5)}\n",
    "\n",
    "def run_autograder(pdf_path, architect_name):\n",
    "    print(\"🚀 Starting pipeline\")\n",
    "    doc_text = extract_text_from_pdf(pdf_path)\n",
    "    images = extract_images_from_pdf(pdf_path)\n",
    "    references = extract_references_from_text(doc_text)\n",
    "\n",
    "    rubric_scores = gemini_full_rubric_eval(doc_text, architect_name, debug=True)\n",
    "    image_relevance = evaluate_image_relevance(images, architect_name, debug=True)\n",
    "\n",
    "    rubric_scores[\"image_quality\"][\"vision_relevance\"] = image_relevance\n",
    "\n",
    "    final_score = sum(item[\"score\"] for item in rubric_scores.values())\n",
    "    grade = \"A\" if final_score >= 40 else \"B\" if final_score >= 35 else \"C\" if final_score >= 30 else \"D\"\n",
    "\n",
    "    return {\n",
    "        \"scorecard\": rubric_scores,\n",
    "        \"final_score\": final_score,\n",
    "        \"grade\": grade\n",
    "    }"
   ]
  },
  {
   "cell_type": "code",
   "execution_count": null,
   "metadata": {},
   "outputs": [
    {
     "name": "stdout",
     "output_type": "stream",
     "text": [
      "🚀 Starting pipeline\n",
      "🔍 Extracting text from: your_file_path.pdf\n"
     ]
    },
    {
     "ename": "FileNotFoundError",
     "evalue": "no such file: 'your_file_path.pdf'",
     "output_type": "error",
     "traceback": [
      "\u001b[0;31m---------------------------------------------------------------------------\u001b[0m",
      "\u001b[0;31mFileNotFoundError\u001b[0m                         Traceback (most recent call last)",
      "\u001b[0;32m/var/folders/k7/mmnyfjh16vj74m2rfzds86pr0000gn/T/ipykernel_33787/2531833009.py\u001b[0m in \u001b[0;36m?\u001b[0;34m()\u001b[0m\n\u001b[0;32m----> 1\u001b[0;31m \u001b[0mresult\u001b[0m \u001b[0;34m=\u001b[0m \u001b[0mrun_autograder\u001b[0m\u001b[0;34m(\u001b[0m\u001b[0;34m\"your_file_path.pdf\"\u001b[0m\u001b[0;34m,\u001b[0m \u001b[0;34m\"Bjarke Ingels\"\u001b[0m\u001b[0;34m)\u001b[0m\u001b[0;34m\u001b[0m\u001b[0;34m\u001b[0m\u001b[0m\n\u001b[0m\u001b[1;32m      2\u001b[0m \u001b[0mprint\u001b[0m\u001b[0;34m(\u001b[0m\u001b[0mjson\u001b[0m\u001b[0;34m.\u001b[0m\u001b[0mdumps\u001b[0m\u001b[0;34m(\u001b[0m\u001b[0mresult\u001b[0m\u001b[0;34m,\u001b[0m \u001b[0mindent\u001b[0m\u001b[0;34m=\u001b[0m\u001b[0;36m2\u001b[0m\u001b[0;34m)\u001b[0m\u001b[0;34m)\u001b[0m\u001b[0;34m\u001b[0m\u001b[0;34m\u001b[0m\u001b[0m\n",
      "\u001b[0;32m/var/folders/k7/mmnyfjh16vj74m2rfzds86pr0000gn/T/ipykernel_33787/680549263.py\u001b[0m in \u001b[0;36m?\u001b[0;34m(pdf_path, architect_name)\u001b[0m\n\u001b[1;32m    115\u001b[0m \u001b[0;32mdef\u001b[0m \u001b[0mrun_autograder\u001b[0m\u001b[0;34m(\u001b[0m\u001b[0mpdf_path\u001b[0m\u001b[0;34m,\u001b[0m \u001b[0marchitect_name\u001b[0m\u001b[0;34m)\u001b[0m\u001b[0;34m:\u001b[0m\u001b[0;34m\u001b[0m\u001b[0;34m\u001b[0m\u001b[0m\n\u001b[1;32m    116\u001b[0m     \u001b[0mprint\u001b[0m\u001b[0;34m(\u001b[0m\u001b[0;34m\"🚀 Starting pipeline\"\u001b[0m\u001b[0;34m)\u001b[0m\u001b[0;34m\u001b[0m\u001b[0;34m\u001b[0m\u001b[0m\n\u001b[0;32m--> 117\u001b[0;31m     \u001b[0mdoc_text\u001b[0m \u001b[0;34m=\u001b[0m \u001b[0mextract_text_from_pdf\u001b[0m\u001b[0;34m(\u001b[0m\u001b[0mpdf_path\u001b[0m\u001b[0;34m)\u001b[0m\u001b[0;34m\u001b[0m\u001b[0;34m\u001b[0m\u001b[0m\n\u001b[0m\u001b[1;32m    118\u001b[0m     \u001b[0mimages\u001b[0m \u001b[0;34m=\u001b[0m \u001b[0mextract_images_from_pdf\u001b[0m\u001b[0;34m(\u001b[0m\u001b[0mpdf_path\u001b[0m\u001b[0;34m)\u001b[0m\u001b[0;34m\u001b[0m\u001b[0;34m\u001b[0m\u001b[0m\n\u001b[1;32m    119\u001b[0m     \u001b[0mreferences\u001b[0m \u001b[0;34m=\u001b[0m \u001b[0mextract_references_from_text\u001b[0m\u001b[0;34m(\u001b[0m\u001b[0mdoc_text\u001b[0m\u001b[0;34m)\u001b[0m\u001b[0;34m\u001b[0m\u001b[0;34m\u001b[0m\u001b[0m\n\u001b[1;32m    120\u001b[0m \u001b[0;34m\u001b[0m\u001b[0m\n",
      "\u001b[0;32m/var/folders/k7/mmnyfjh16vj74m2rfzds86pr0000gn/T/ipykernel_33787/680549263.py\u001b[0m in \u001b[0;36m?\u001b[0;34m(pdf_path)\u001b[0m\n\u001b[1;32m     13\u001b[0m \u001b[0;32mdef\u001b[0m \u001b[0mextract_text_from_pdf\u001b[0m\u001b[0;34m(\u001b[0m\u001b[0mpdf_path\u001b[0m\u001b[0;34m)\u001b[0m\u001b[0;34m:\u001b[0m\u001b[0;34m\u001b[0m\u001b[0;34m\u001b[0m\u001b[0m\n\u001b[1;32m     14\u001b[0m     \u001b[0mprint\u001b[0m\u001b[0;34m(\u001b[0m\u001b[0;34mf\"🔍 Extracting text from: {pdf_path}\"\u001b[0m\u001b[0;34m)\u001b[0m\u001b[0;34m\u001b[0m\u001b[0;34m\u001b[0m\u001b[0m\n\u001b[1;32m     15\u001b[0m     \u001b[0mtext\u001b[0m \u001b[0;34m=\u001b[0m \u001b[0;34m\"\"\u001b[0m\u001b[0;34m\u001b[0m\u001b[0;34m\u001b[0m\u001b[0m\n\u001b[0;32m---> 16\u001b[0;31m     \u001b[0;32mwith\u001b[0m \u001b[0mfitz\u001b[0m\u001b[0;34m.\u001b[0m\u001b[0mopen\u001b[0m\u001b[0;34m(\u001b[0m\u001b[0mpdf_path\u001b[0m\u001b[0;34m)\u001b[0m \u001b[0;32mas\u001b[0m \u001b[0mdoc\u001b[0m\u001b[0;34m:\u001b[0m\u001b[0;34m\u001b[0m\u001b[0;34m\u001b[0m\u001b[0m\n\u001b[0m\u001b[1;32m     17\u001b[0m         \u001b[0;32mfor\u001b[0m \u001b[0mpage\u001b[0m \u001b[0;32min\u001b[0m \u001b[0mdoc\u001b[0m\u001b[0;34m:\u001b[0m\u001b[0;34m\u001b[0m\u001b[0;34m\u001b[0m\u001b[0m\n\u001b[1;32m     18\u001b[0m             \u001b[0mtext\u001b[0m \u001b[0;34m+=\u001b[0m \u001b[0mpage\u001b[0m\u001b[0;34m.\u001b[0m\u001b[0mget_text\u001b[0m\u001b[0;34m(\u001b[0m\u001b[0;34m)\u001b[0m\u001b[0;34m\u001b[0m\u001b[0;34m\u001b[0m\u001b[0m\n\u001b[1;32m     19\u001b[0m     \u001b[0mprint\u001b[0m\u001b[0;34m(\u001b[0m\u001b[0;34m\"✔ Extracted text from PDF\"\u001b[0m\u001b[0;34m)\u001b[0m\u001b[0;34m\u001b[0m\u001b[0;34m\u001b[0m\u001b[0m\n",
      "\u001b[0;32m/opt/anaconda3/envs/langchain_setup_llama/lib/python3.10/site-packages/pymupdf/__init__.py\u001b[0m in \u001b[0;36m?\u001b[0;34m(self, filename, stream, filetype, rect, width, height, fontsize)\u001b[0m\n\u001b[1;32m   3045\u001b[0m                     \u001b[0mself\u001b[0m\u001b[0;34m.\u001b[0m\u001b[0mpage_count2\u001b[0m \u001b[0;34m=\u001b[0m \u001b[0mextra\u001b[0m\u001b[0;34m.\u001b[0m\u001b[0mpage_count_pdf\u001b[0m\u001b[0;34m\u001b[0m\u001b[0;34m\u001b[0m\u001b[0m\n\u001b[1;32m   3046\u001b[0m                 \u001b[0;32melse\u001b[0m\u001b[0;34m:\u001b[0m\u001b[0;34m\u001b[0m\u001b[0;34m\u001b[0m\u001b[0m\n\u001b[1;32m   3047\u001b[0m                     \u001b[0mself\u001b[0m\u001b[0;34m.\u001b[0m\u001b[0mpage_count2\u001b[0m \u001b[0;34m=\u001b[0m \u001b[0mextra\u001b[0m\u001b[0;34m.\u001b[0m\u001b[0mpage_count_fz\u001b[0m\u001b[0;34m\u001b[0m\u001b[0;34m\u001b[0m\u001b[0m\n\u001b[1;32m   3048\u001b[0m         \u001b[0;32mfinally\u001b[0m\u001b[0;34m:\u001b[0m\u001b[0;34m\u001b[0m\u001b[0;34m\u001b[0m\u001b[0m\n\u001b[0;32m-> 3049\u001b[0;31m             \u001b[0mJM_mupdf_show_errors\u001b[0m \u001b[0;34m=\u001b[0m \u001b[0mJM_mupdf_show_errors_old\u001b[0m\u001b[0;34m\u001b[0m\u001b[0;34m\u001b[0m\u001b[0m\n\u001b[0m",
      "\u001b[0;31mFileNotFoundError\u001b[0m: no such file: 'your_file_path.pdf'"
     ]
    }
   ],
   "source": [
    "result = run_autograder(\"/Users/tanishqsingh/Downloads/cogs160submisson1.pdf\", \"Bjarke Ingels\")\n",
    "print(json.dumps(result, indent=2))\n"
   ]
  },
  {
   "cell_type": "markdown",
   "metadata": {},
   "source": []
  },
  {
   "cell_type": "markdown",
   "metadata": {},
   "source": []
  }
 ],
 "metadata": {
  "kernelspec": {
   "display_name": "langchain_setup_llama",
   "language": "python",
   "name": "python3"
  },
  "language_info": {
   "codemirror_mode": {
    "name": "ipython",
    "version": 3
   },
   "file_extension": ".py",
   "mimetype": "text/x-python",
   "name": "python",
   "nbconvert_exporter": "python",
   "pygments_lexer": "ipython3",
   "version": "3.10.14"
  }
 },
 "nbformat": 4,
 "nbformat_minor": 2
}

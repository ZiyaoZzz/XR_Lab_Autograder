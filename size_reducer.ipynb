{
 "cells": [
  {
   "cell_type": "code",
   "execution_count": 13,
   "metadata": {},
   "outputs": [
    {
     "name": "stdout",
     "output_type": "stream",
     "text": [
      "📄 Extracting images from: /Users/tanishqsingh/Desktop/XR_Lab/cogs160submisson1.pdf\n"
     ]
    },
    {
     "name": "stderr",
     "output_type": "stream",
     "text": [
      "🔍 Processing Pages:   5%|▌         | 3/57 [00:00<00:01, 28.93it/s]"
     ]
    },
    {
     "name": "stdout",
     "output_type": "stream",
     "text": [
      "⚠️ No images found on page 1\n",
      "✅ Saved image: page2_img1.png (895x912)\n",
      "✅ Saved image: page3_img1.png (600x769)\n",
      "✅ Saved image: page4_img1.png (1400x986)\n",
      "✅ Saved image: page5_img1.png (1400x933)\n",
      "✅ Saved image: page5_img2.png (1400x776)\n"
     ]
    },
    {
     "name": "stderr",
     "output_type": "stream",
     "text": [
      "🔍 Processing Pages:  14%|█▍        | 8/57 [00:00<00:05,  8.29it/s]"
     ]
    },
    {
     "name": "stdout",
     "output_type": "stream",
     "text": [
      "✅ Saved image: page6_img1.png (1400x933)\n",
      "✅ Saved image: page6_img2.png (900x600)\n",
      "✅ Saved image: page7_img1.png (512x768)\n",
      "✅ Saved image: page8_img1.png (1024x768)\n",
      "✅ Saved image: page8_img2.png (900x599)\n"
     ]
    },
    {
     "name": "stderr",
     "output_type": "stream",
     "text": [
      "🔍 Processing Pages:  18%|█▊        | 10/57 [00:01<00:05,  9.32it/s]"
     ]
    },
    {
     "name": "stdout",
     "output_type": "stream",
     "text": [
      "✅ Saved image: page9_img1.png (400x267)\n",
      "✅ Saved image: page9_img2.png (900x600)\n",
      "✅ Saved image: page10_img1.png (1182x737)\n",
      "✅ Saved image: page11_img1.png (1200x800)\n",
      "✅ Saved image: page11_img2.png (818x453)\n",
      "✅ Saved image: page12_img1.png (1200x800)\n"
     ]
    },
    {
     "name": "stderr",
     "output_type": "stream",
     "text": [
      "🔍 Processing Pages:  21%|██        | 12/57 [00:01<00:05,  7.53it/s]"
     ]
    },
    {
     "name": "stdout",
     "output_type": "stream",
     "text": [
      "✅ Saved image: page12_img2.png (1200x800)\n",
      "✅ Saved image: page13_img1.png (1200x800)\n",
      "✅ Saved image: page13_img2.png (1200x800)\n"
     ]
    },
    {
     "name": "stderr",
     "output_type": "stream",
     "text": [
      "🔍 Processing Pages:  25%|██▍       | 14/57 [00:01<00:05,  7.35it/s]"
     ]
    },
    {
     "name": "stdout",
     "output_type": "stream",
     "text": [
      "✅ Saved image: page14_img1.png (1200x853)\n"
     ]
    },
    {
     "name": "stderr",
     "output_type": "stream",
     "text": [
      "🔍 Processing Pages:  26%|██▋       | 15/57 [00:02<00:07,  5.50it/s]"
     ]
    },
    {
     "name": "stdout",
     "output_type": "stream",
     "text": [
      "✅ Saved image: page15_img1.png (1819x1289)\n",
      "✅ Saved image: page15_img2.png (1170x779)\n",
      "✅ Saved image: page16_img1.png (1400x1000)\n"
     ]
    },
    {
     "name": "stderr",
     "output_type": "stream",
     "text": [
      "🔍 Processing Pages:  28%|██▊       | 16/57 [00:02<00:08,  4.72it/s]"
     ]
    },
    {
     "name": "stdout",
     "output_type": "stream",
     "text": [
      "✅ Saved image: page16_img2.png (1500x1000)\n",
      "✅ Saved image: page17_img1.png (1149x1000)\n"
     ]
    },
    {
     "name": "stderr",
     "output_type": "stream",
     "text": [
      "🔍 Processing Pages:  30%|██▉       | 17/57 [00:02<00:10,  3.66it/s]"
     ]
    },
    {
     "name": "stdout",
     "output_type": "stream",
     "text": [
      "✅ Saved image: page17_img2.png (2048x1448)\n"
     ]
    },
    {
     "name": "stderr",
     "output_type": "stream",
     "text": [
      "🔍 Processing Pages:  33%|███▎      | 19/57 [00:03<00:09,  3.97it/s]"
     ]
    },
    {
     "name": "stdout",
     "output_type": "stream",
     "text": [
      "✅ Saved image: page18_img1.png (2000x1333)\n",
      "✅ Saved image: page19_img1.png (790x503)\n",
      "✅ Saved image: page19_img2.png (790x526)\n",
      "✅ Saved image: page20_img1.png (790x492)\n"
     ]
    },
    {
     "name": "stderr",
     "output_type": "stream",
     "text": [
      "🔍 Processing Pages:  37%|███▋      | 21/57 [00:03<00:06,  5.44it/s]"
     ]
    },
    {
     "name": "stdout",
     "output_type": "stream",
     "text": [
      "✅ Saved image: page20_img2.png (790x524)\n",
      "✅ Saved image: page21_img1.png (790x526)\n",
      "✅ Saved image: page21_img2.png (790x526)\n"
     ]
    },
    {
     "name": "stderr",
     "output_type": "stream",
     "text": [
      "🔍 Processing Pages:  39%|███▊      | 22/57 [00:03<00:05,  6.19it/s]"
     ]
    },
    {
     "name": "stdout",
     "output_type": "stream",
     "text": [
      "✅ Saved image: page22_img1.png (1100x733)\n"
     ]
    },
    {
     "name": "stderr",
     "output_type": "stream",
     "text": [
      "🔍 Processing Pages:  42%|████▏     | 24/57 [00:04<00:06,  5.37it/s]"
     ]
    },
    {
     "name": "stdout",
     "output_type": "stream",
     "text": [
      "✅ Saved image: page23_img1.png (1800x1200)\n",
      "✅ Saved image: page24_img1.png (1100x733)\n",
      "✅ Saved image: page24_img2.png (735x596)\n"
     ]
    },
    {
     "name": "stderr",
     "output_type": "stream",
     "text": [
      "🔍 Processing Pages:  44%|████▍     | 25/57 [00:04<00:09,  3.25it/s]"
     ]
    },
    {
     "name": "stdout",
     "output_type": "stream",
     "text": [
      "✅ Saved image: page25_img1.png (1920x1440)\n",
      "✅ Saved image: page25_img2.png (1800x1200)\n"
     ]
    },
    {
     "name": "stderr",
     "output_type": "stream",
     "text": [
      "🔍 Processing Pages:  47%|████▋     | 27/57 [00:05<00:07,  4.16it/s]"
     ]
    },
    {
     "name": "stdout",
     "output_type": "stream",
     "text": [
      "✅ Saved image: page26_img1.png (1800x1200)\n",
      "✅ Saved image: page27_img1.png (800x1200)\n",
      "✅ Saved image: page28_img1.png (1200x702)\n"
     ]
    },
    {
     "name": "stderr",
     "output_type": "stream",
     "text": [
      "🔍 Processing Pages:  51%|█████     | 29/57 [00:05<00:06,  4.56it/s]"
     ]
    },
    {
     "name": "stdout",
     "output_type": "stream",
     "text": [
      "✅ Saved image: page28_img2.png (1500x1000)\n",
      "✅ Saved image: page29_img1.png (1003x1500)\n"
     ]
    },
    {
     "name": "stderr",
     "output_type": "stream",
     "text": [
      "🔍 Processing Pages:  53%|█████▎    | 30/57 [00:05<00:05,  5.32it/s]"
     ]
    },
    {
     "name": "stdout",
     "output_type": "stream",
     "text": [
      "✅ Saved image: page30_img1.png (800x533)\n",
      "✅ Saved image: page30_img2.png (825x550)\n"
     ]
    },
    {
     "name": "stderr",
     "output_type": "stream",
     "text": [
      "🔍 Processing Pages:  54%|█████▍    | 31/57 [00:06<00:05,  4.51it/s]"
     ]
    },
    {
     "name": "stdout",
     "output_type": "stream",
     "text": [
      "✅ Saved image: page31_img1.png (2048x1365)\n"
     ]
    },
    {
     "name": "stderr",
     "output_type": "stream",
     "text": [
      "🔍 Processing Pages:  56%|█████▌    | 32/57 [00:06<00:06,  3.98it/s]"
     ]
    },
    {
     "name": "stdout",
     "output_type": "stream",
     "text": [
      "✅ Saved image: page32_img1.png (2048x1542)\n"
     ]
    },
    {
     "name": "stderr",
     "output_type": "stream",
     "text": [
      "🔍 Processing Pages:  58%|█████▊    | 33/57 [00:06<00:08,  2.77it/s]"
     ]
    },
    {
     "name": "stdout",
     "output_type": "stream",
     "text": [
      "✅ Saved image: page33_img1.png (1940x1293)\n",
      "✅ Saved image: page33_img2.png (1680x1260)\n",
      "✅ Saved image: page34_img1.png (1000x647)\n"
     ]
    },
    {
     "name": "stderr",
     "output_type": "stream",
     "text": [
      "🔍 Processing Pages:  61%|██████▏   | 35/57 [00:07<00:05,  3.75it/s]"
     ]
    },
    {
     "name": "stdout",
     "output_type": "stream",
     "text": [
      "✅ Saved image: page34_img2.png (1200x744)\n",
      "✅ Saved image: page35_img1.png (1024x682)\n",
      "✅ Saved image: page35_img2.png (993x560)\n"
     ]
    },
    {
     "name": "stderr",
     "output_type": "stream",
     "text": [
      "🔍 Processing Pages:  65%|██████▍   | 37/57 [00:07<00:03,  5.18it/s]"
     ]
    },
    {
     "name": "stdout",
     "output_type": "stream",
     "text": [
      "✅ Saved image: page36_img1.png (1000x666)\n",
      "✅ Saved image: page37_img1.png (1320x880)\n"
     ]
    },
    {
     "name": "stderr",
     "output_type": "stream",
     "text": [
      "🔍 Processing Pages:  67%|██████▋   | 38/57 [00:07<00:04,  4.62it/s]"
     ]
    },
    {
     "name": "stdout",
     "output_type": "stream",
     "text": [
      "✅ Saved image: page38_img1.png (1365x2048)\n"
     ]
    },
    {
     "name": "stderr",
     "output_type": "stream",
     "text": [
      "🔍 Processing Pages:  68%|██████▊   | 39/57 [00:08<00:05,  3.51it/s]"
     ]
    },
    {
     "name": "stdout",
     "output_type": "stream",
     "text": [
      "✅ Saved image: page39_img1.png (2000x1333)\n",
      "✅ Saved image: page39_img2.png (2048x1366)\n",
      "✅ Saved image: page40_img1.png (1000x666)\n"
     ]
    },
    {
     "name": "stderr",
     "output_type": "stream",
     "text": [
      "🔍 Processing Pages:  70%|███████   | 40/57 [00:08<00:04,  3.53it/s]"
     ]
    },
    {
     "name": "stdout",
     "output_type": "stream",
     "text": [
      "✅ Saved image: page40_img2.png (2000x1333)\n"
     ]
    },
    {
     "name": "stderr",
     "output_type": "stream",
     "text": [
      "🔍 Processing Pages:  72%|███████▏  | 41/57 [00:09<00:05,  2.94it/s]"
     ]
    },
    {
     "name": "stdout",
     "output_type": "stream",
     "text": [
      "✅ Saved image: page41_img1.png (2048x1365)\n",
      "✅ Saved image: page41_img2.png (2048x1365)\n"
     ]
    },
    {
     "name": "stderr",
     "output_type": "stream",
     "text": [
      "🔍 Processing Pages:  74%|███████▎  | 42/57 [00:09<00:04,  3.22it/s]"
     ]
    },
    {
     "name": "stdout",
     "output_type": "stream",
     "text": [
      "✅ Saved image: page42_img1.png (1704x1217)\n",
      "✅ Saved image: page43_img1.png (1200x800)\n"
     ]
    },
    {
     "name": "stderr",
     "output_type": "stream",
     "text": [
      "🔍 Processing Pages:  75%|███████▌  | 43/57 [00:09<00:03,  3.53it/s]"
     ]
    },
    {
     "name": "stdout",
     "output_type": "stream",
     "text": [
      "✅ Saved image: page43_img2.png (1200x800)\n",
      "✅ Saved image: page44_img1.png (1200x518)\n"
     ]
    },
    {
     "name": "stderr",
     "output_type": "stream",
     "text": [
      "🔍 Processing Pages:  77%|███████▋  | 44/57 [00:09<00:03,  3.85it/s]"
     ]
    },
    {
     "name": "stdout",
     "output_type": "stream",
     "text": [
      "✅ Saved image: page44_img2.png (1200x850)\n",
      "✅ Saved image: page45_img1.png (1200x881)\n"
     ]
    },
    {
     "name": "stderr",
     "output_type": "stream",
     "text": [
      "🔍 Processing Pages:  81%|████████  | 46/57 [00:10<00:02,  4.62it/s]"
     ]
    },
    {
     "name": "stdout",
     "output_type": "stream",
     "text": [
      "✅ Saved image: page45_img2.png (1200x800)\n",
      "✅ Saved image: page46_img1.png (1200x800)\n"
     ]
    },
    {
     "name": "stderr",
     "output_type": "stream",
     "text": [
      "🔍 Processing Pages:  82%|████████▏ | 47/57 [00:10<00:03,  2.96it/s]"
     ]
    },
    {
     "name": "stdout",
     "output_type": "stream",
     "text": [
      "✅ Saved image: page47_img1.png (2048x1366)\n",
      "✅ Saved image: page47_img2.png (2048x1366)\n"
     ]
    },
    {
     "name": "stderr",
     "output_type": "stream",
     "text": [
      "🔍 Processing Pages:  84%|████████▍ | 48/57 [00:11<00:03,  2.92it/s]"
     ]
    },
    {
     "name": "stdout",
     "output_type": "stream",
     "text": [
      "✅ Saved image: page48_img1.png (2048x1353)\n"
     ]
    },
    {
     "name": "stderr",
     "output_type": "stream",
     "text": [
      "🔍 Processing Pages:  86%|████████▌ | 49/57 [00:11<00:02,  2.85it/s]"
     ]
    },
    {
     "name": "stdout",
     "output_type": "stream",
     "text": [
      "✅ Saved image: page49_img1.png (1328x2048)\n"
     ]
    },
    {
     "name": "stderr",
     "output_type": "stream",
     "text": [
      "🔍 Processing Pages:  88%|████████▊ | 50/57 [00:11<00:02,  2.47it/s]"
     ]
    },
    {
     "name": "stdout",
     "output_type": "stream",
     "text": [
      "✅ Saved image: page50_img1.png (1800x1201)\n",
      "✅ Saved image: page50_img2.png (1800x1201)\n"
     ]
    },
    {
     "name": "stderr",
     "output_type": "stream",
     "text": [
      "🔍 Processing Pages: 100%|██████████| 57/57 [00:12<00:00,  4.53it/s]"
     ]
    },
    {
     "name": "stdout",
     "output_type": "stream",
     "text": [
      "✅ Saved image: page51_img1.png (2048x1271)\n",
      "✅ Saved image: page51_img2.png (1800x1172)\n",
      "⚠️ No images found on page 52\n",
      "⚠️ No images found on page 53\n",
      "⚠️ No images found on page 54\n",
      "⚠️ No images found on page 55\n",
      "⚠️ No images found on page 56\n",
      "⚠️ No images found on page 57\n",
      "\n",
      "✅ Extracted 79 images. Metadata saved to:\n",
      "/Users/tanishqsingh/Desktop/XR_Lab/image_metadata.csv\n"
     ]
    },
    {
     "name": "stderr",
     "output_type": "stream",
     "text": [
      "\n"
     ]
    },
    {
     "data": {
      "text/plain": [
       "[{'pdf_name': 'cogs160submisson1.pdf',\n",
       "  'image_path': '/Users/tanishqsingh/Desktop/XR_Lab/Extracted_images/page2_img1.png',\n",
       "  'page_number': 2,\n",
       "  'image_width': 895,\n",
       "  'image_height': 912,\n",
       "  'image_resolution': '895x912',\n",
       "  'is_high_res': False},\n",
       " {'pdf_name': 'cogs160submisson1.pdf',\n",
       "  'image_path': '/Users/tanishqsingh/Desktop/XR_Lab/Extracted_images/page3_img1.png',\n",
       "  'page_number': 3,\n",
       "  'image_width': 600,\n",
       "  'image_height': 769,\n",
       "  'image_resolution': '600x769',\n",
       "  'is_high_res': False},\n",
       " {'pdf_name': 'cogs160submisson1.pdf',\n",
       "  'image_path': '/Users/tanishqsingh/Desktop/XR_Lab/Extracted_images/page4_img1.png',\n",
       "  'page_number': 4,\n",
       "  'image_width': 1400,\n",
       "  'image_height': 986,\n",
       "  'image_resolution': '1400x986',\n",
       "  'is_high_res': True},\n",
       " {'pdf_name': 'cogs160submisson1.pdf',\n",
       "  'image_path': '/Users/tanishqsingh/Desktop/XR_Lab/Extracted_images/page5_img1.png',\n",
       "  'page_number': 5,\n",
       "  'image_width': 1400,\n",
       "  'image_height': 933,\n",
       "  'image_resolution': '1400x933',\n",
       "  'is_high_res': True},\n",
       " {'pdf_name': 'cogs160submisson1.pdf',\n",
       "  'image_path': '/Users/tanishqsingh/Desktop/XR_Lab/Extracted_images/page5_img2.png',\n",
       "  'page_number': 5,\n",
       "  'image_width': 1400,\n",
       "  'image_height': 776,\n",
       "  'image_resolution': '1400x776',\n",
       "  'is_high_res': True},\n",
       " {'pdf_name': 'cogs160submisson1.pdf',\n",
       "  'image_path': '/Users/tanishqsingh/Desktop/XR_Lab/Extracted_images/page6_img1.png',\n",
       "  'page_number': 6,\n",
       "  'image_width': 1400,\n",
       "  'image_height': 933,\n",
       "  'image_resolution': '1400x933',\n",
       "  'is_high_res': True},\n",
       " {'pdf_name': 'cogs160submisson1.pdf',\n",
       "  'image_path': '/Users/tanishqsingh/Desktop/XR_Lab/Extracted_images/page6_img2.png',\n",
       "  'page_number': 6,\n",
       "  'image_width': 900,\n",
       "  'image_height': 600,\n",
       "  'image_resolution': '900x600',\n",
       "  'is_high_res': False},\n",
       " {'pdf_name': 'cogs160submisson1.pdf',\n",
       "  'image_path': '/Users/tanishqsingh/Desktop/XR_Lab/Extracted_images/page7_img1.png',\n",
       "  'page_number': 7,\n",
       "  'image_width': 512,\n",
       "  'image_height': 768,\n",
       "  'image_resolution': '512x768',\n",
       "  'is_high_res': False},\n",
       " {'pdf_name': 'cogs160submisson1.pdf',\n",
       "  'image_path': '/Users/tanishqsingh/Desktop/XR_Lab/Extracted_images/page8_img1.png',\n",
       "  'page_number': 8,\n",
       "  'image_width': 1024,\n",
       "  'image_height': 768,\n",
       "  'image_resolution': '1024x768',\n",
       "  'is_high_res': False},\n",
       " {'pdf_name': 'cogs160submisson1.pdf',\n",
       "  'image_path': '/Users/tanishqsingh/Desktop/XR_Lab/Extracted_images/page8_img2.png',\n",
       "  'page_number': 8,\n",
       "  'image_width': 900,\n",
       "  'image_height': 599,\n",
       "  'image_resolution': '900x599',\n",
       "  'is_high_res': False},\n",
       " {'pdf_name': 'cogs160submisson1.pdf',\n",
       "  'image_path': '/Users/tanishqsingh/Desktop/XR_Lab/Extracted_images/page9_img1.png',\n",
       "  'page_number': 9,\n",
       "  'image_width': 400,\n",
       "  'image_height': 267,\n",
       "  'image_resolution': '400x267',\n",
       "  'is_high_res': False},\n",
       " {'pdf_name': 'cogs160submisson1.pdf',\n",
       "  'image_path': '/Users/tanishqsingh/Desktop/XR_Lab/Extracted_images/page9_img2.png',\n",
       "  'page_number': 9,\n",
       "  'image_width': 900,\n",
       "  'image_height': 600,\n",
       "  'image_resolution': '900x600',\n",
       "  'is_high_res': False},\n",
       " {'pdf_name': 'cogs160submisson1.pdf',\n",
       "  'image_path': '/Users/tanishqsingh/Desktop/XR_Lab/Extracted_images/page10_img1.png',\n",
       "  'page_number': 10,\n",
       "  'image_width': 1182,\n",
       "  'image_height': 737,\n",
       "  'image_resolution': '1182x737',\n",
       "  'is_high_res': False},\n",
       " {'pdf_name': 'cogs160submisson1.pdf',\n",
       "  'image_path': '/Users/tanishqsingh/Desktop/XR_Lab/Extracted_images/page11_img1.png',\n",
       "  'page_number': 11,\n",
       "  'image_width': 1200,\n",
       "  'image_height': 800,\n",
       "  'image_resolution': '1200x800',\n",
       "  'is_high_res': True},\n",
       " {'pdf_name': 'cogs160submisson1.pdf',\n",
       "  'image_path': '/Users/tanishqsingh/Desktop/XR_Lab/Extracted_images/page11_img2.png',\n",
       "  'page_number': 11,\n",
       "  'image_width': 818,\n",
       "  'image_height': 453,\n",
       "  'image_resolution': '818x453',\n",
       "  'is_high_res': False},\n",
       " {'pdf_name': 'cogs160submisson1.pdf',\n",
       "  'image_path': '/Users/tanishqsingh/Desktop/XR_Lab/Extracted_images/page12_img1.png',\n",
       "  'page_number': 12,\n",
       "  'image_width': 1200,\n",
       "  'image_height': 800,\n",
       "  'image_resolution': '1200x800',\n",
       "  'is_high_res': True},\n",
       " {'pdf_name': 'cogs160submisson1.pdf',\n",
       "  'image_path': '/Users/tanishqsingh/Desktop/XR_Lab/Extracted_images/page12_img2.png',\n",
       "  'page_number': 12,\n",
       "  'image_width': 1200,\n",
       "  'image_height': 800,\n",
       "  'image_resolution': '1200x800',\n",
       "  'is_high_res': True},\n",
       " {'pdf_name': 'cogs160submisson1.pdf',\n",
       "  'image_path': '/Users/tanishqsingh/Desktop/XR_Lab/Extracted_images/page13_img1.png',\n",
       "  'page_number': 13,\n",
       "  'image_width': 1200,\n",
       "  'image_height': 800,\n",
       "  'image_resolution': '1200x800',\n",
       "  'is_high_res': True},\n",
       " {'pdf_name': 'cogs160submisson1.pdf',\n",
       "  'image_path': '/Users/tanishqsingh/Desktop/XR_Lab/Extracted_images/page13_img2.png',\n",
       "  'page_number': 13,\n",
       "  'image_width': 1200,\n",
       "  'image_height': 800,\n",
       "  'image_resolution': '1200x800',\n",
       "  'is_high_res': True},\n",
       " {'pdf_name': 'cogs160submisson1.pdf',\n",
       "  'image_path': '/Users/tanishqsingh/Desktop/XR_Lab/Extracted_images/page14_img1.png',\n",
       "  'page_number': 14,\n",
       "  'image_width': 1200,\n",
       "  'image_height': 853,\n",
       "  'image_resolution': '1200x853',\n",
       "  'is_high_res': True},\n",
       " {'pdf_name': 'cogs160submisson1.pdf',\n",
       "  'image_path': '/Users/tanishqsingh/Desktop/XR_Lab/Extracted_images/page15_img1.png',\n",
       "  'page_number': 15,\n",
       "  'image_width': 1819,\n",
       "  'image_height': 1289,\n",
       "  'image_resolution': '1819x1289',\n",
       "  'is_high_res': True},\n",
       " {'pdf_name': 'cogs160submisson1.pdf',\n",
       "  'image_path': '/Users/tanishqsingh/Desktop/XR_Lab/Extracted_images/page15_img2.png',\n",
       "  'page_number': 15,\n",
       "  'image_width': 1170,\n",
       "  'image_height': 779,\n",
       "  'image_resolution': '1170x779',\n",
       "  'is_high_res': False},\n",
       " {'pdf_name': 'cogs160submisson1.pdf',\n",
       "  'image_path': '/Users/tanishqsingh/Desktop/XR_Lab/Extracted_images/page16_img1.png',\n",
       "  'page_number': 16,\n",
       "  'image_width': 1400,\n",
       "  'image_height': 1000,\n",
       "  'image_resolution': '1400x1000',\n",
       "  'is_high_res': True},\n",
       " {'pdf_name': 'cogs160submisson1.pdf',\n",
       "  'image_path': '/Users/tanishqsingh/Desktop/XR_Lab/Extracted_images/page16_img2.png',\n",
       "  'page_number': 16,\n",
       "  'image_width': 1500,\n",
       "  'image_height': 1000,\n",
       "  'image_resolution': '1500x1000',\n",
       "  'is_high_res': True},\n",
       " {'pdf_name': 'cogs160submisson1.pdf',\n",
       "  'image_path': '/Users/tanishqsingh/Desktop/XR_Lab/Extracted_images/page17_img1.png',\n",
       "  'page_number': 17,\n",
       "  'image_width': 1149,\n",
       "  'image_height': 1000,\n",
       "  'image_resolution': '1149x1000',\n",
       "  'is_high_res': False},\n",
       " {'pdf_name': 'cogs160submisson1.pdf',\n",
       "  'image_path': '/Users/tanishqsingh/Desktop/XR_Lab/Extracted_images/page17_img2.png',\n",
       "  'page_number': 17,\n",
       "  'image_width': 2048,\n",
       "  'image_height': 1448,\n",
       "  'image_resolution': '2048x1448',\n",
       "  'is_high_res': True},\n",
       " {'pdf_name': 'cogs160submisson1.pdf',\n",
       "  'image_path': '/Users/tanishqsingh/Desktop/XR_Lab/Extracted_images/page18_img1.png',\n",
       "  'page_number': 18,\n",
       "  'image_width': 2000,\n",
       "  'image_height': 1333,\n",
       "  'image_resolution': '2000x1333',\n",
       "  'is_high_res': True},\n",
       " {'pdf_name': 'cogs160submisson1.pdf',\n",
       "  'image_path': '/Users/tanishqsingh/Desktop/XR_Lab/Extracted_images/page19_img1.png',\n",
       "  'page_number': 19,\n",
       "  'image_width': 790,\n",
       "  'image_height': 503,\n",
       "  'image_resolution': '790x503',\n",
       "  'is_high_res': False},\n",
       " {'pdf_name': 'cogs160submisson1.pdf',\n",
       "  'image_path': '/Users/tanishqsingh/Desktop/XR_Lab/Extracted_images/page19_img2.png',\n",
       "  'page_number': 19,\n",
       "  'image_width': 790,\n",
       "  'image_height': 526,\n",
       "  'image_resolution': '790x526',\n",
       "  'is_high_res': False},\n",
       " {'pdf_name': 'cogs160submisson1.pdf',\n",
       "  'image_path': '/Users/tanishqsingh/Desktop/XR_Lab/Extracted_images/page20_img1.png',\n",
       "  'page_number': 20,\n",
       "  'image_width': 790,\n",
       "  'image_height': 492,\n",
       "  'image_resolution': '790x492',\n",
       "  'is_high_res': False},\n",
       " {'pdf_name': 'cogs160submisson1.pdf',\n",
       "  'image_path': '/Users/tanishqsingh/Desktop/XR_Lab/Extracted_images/page20_img2.png',\n",
       "  'page_number': 20,\n",
       "  'image_width': 790,\n",
       "  'image_height': 524,\n",
       "  'image_resolution': '790x524',\n",
       "  'is_high_res': False},\n",
       " {'pdf_name': 'cogs160submisson1.pdf',\n",
       "  'image_path': '/Users/tanishqsingh/Desktop/XR_Lab/Extracted_images/page21_img1.png',\n",
       "  'page_number': 21,\n",
       "  'image_width': 790,\n",
       "  'image_height': 526,\n",
       "  'image_resolution': '790x526',\n",
       "  'is_high_res': False},\n",
       " {'pdf_name': 'cogs160submisson1.pdf',\n",
       "  'image_path': '/Users/tanishqsingh/Desktop/XR_Lab/Extracted_images/page21_img2.png',\n",
       "  'page_number': 21,\n",
       "  'image_width': 790,\n",
       "  'image_height': 526,\n",
       "  'image_resolution': '790x526',\n",
       "  'is_high_res': False},\n",
       " {'pdf_name': 'cogs160submisson1.pdf',\n",
       "  'image_path': '/Users/tanishqsingh/Desktop/XR_Lab/Extracted_images/page22_img1.png',\n",
       "  'page_number': 22,\n",
       "  'image_width': 1100,\n",
       "  'image_height': 733,\n",
       "  'image_resolution': '1100x733',\n",
       "  'is_high_res': False},\n",
       " {'pdf_name': 'cogs160submisson1.pdf',\n",
       "  'image_path': '/Users/tanishqsingh/Desktop/XR_Lab/Extracted_images/page23_img1.png',\n",
       "  'page_number': 23,\n",
       "  'image_width': 1800,\n",
       "  'image_height': 1200,\n",
       "  'image_resolution': '1800x1200',\n",
       "  'is_high_res': True},\n",
       " {'pdf_name': 'cogs160submisson1.pdf',\n",
       "  'image_path': '/Users/tanishqsingh/Desktop/XR_Lab/Extracted_images/page24_img1.png',\n",
       "  'page_number': 24,\n",
       "  'image_width': 1100,\n",
       "  'image_height': 733,\n",
       "  'image_resolution': '1100x733',\n",
       "  'is_high_res': False},\n",
       " {'pdf_name': 'cogs160submisson1.pdf',\n",
       "  'image_path': '/Users/tanishqsingh/Desktop/XR_Lab/Extracted_images/page24_img2.png',\n",
       "  'page_number': 24,\n",
       "  'image_width': 735,\n",
       "  'image_height': 596,\n",
       "  'image_resolution': '735x596',\n",
       "  'is_high_res': False},\n",
       " {'pdf_name': 'cogs160submisson1.pdf',\n",
       "  'image_path': '/Users/tanishqsingh/Desktop/XR_Lab/Extracted_images/page25_img1.png',\n",
       "  'page_number': 25,\n",
       "  'image_width': 1920,\n",
       "  'image_height': 1440,\n",
       "  'image_resolution': '1920x1440',\n",
       "  'is_high_res': True},\n",
       " {'pdf_name': 'cogs160submisson1.pdf',\n",
       "  'image_path': '/Users/tanishqsingh/Desktop/XR_Lab/Extracted_images/page25_img2.png',\n",
       "  'page_number': 25,\n",
       "  'image_width': 1800,\n",
       "  'image_height': 1200,\n",
       "  'image_resolution': '1800x1200',\n",
       "  'is_high_res': True},\n",
       " {'pdf_name': 'cogs160submisson1.pdf',\n",
       "  'image_path': '/Users/tanishqsingh/Desktop/XR_Lab/Extracted_images/page26_img1.png',\n",
       "  'page_number': 26,\n",
       "  'image_width': 1800,\n",
       "  'image_height': 1200,\n",
       "  'image_resolution': '1800x1200',\n",
       "  'is_high_res': True},\n",
       " {'pdf_name': 'cogs160submisson1.pdf',\n",
       "  'image_path': '/Users/tanishqsingh/Desktop/XR_Lab/Extracted_images/page27_img1.png',\n",
       "  'page_number': 27,\n",
       "  'image_width': 800,\n",
       "  'image_height': 1200,\n",
       "  'image_resolution': '800x1200',\n",
       "  'is_high_res': False},\n",
       " {'pdf_name': 'cogs160submisson1.pdf',\n",
       "  'image_path': '/Users/tanishqsingh/Desktop/XR_Lab/Extracted_images/page28_img1.png',\n",
       "  'page_number': 28,\n",
       "  'image_width': 1200,\n",
       "  'image_height': 702,\n",
       "  'image_resolution': '1200x702',\n",
       "  'is_high_res': True},\n",
       " {'pdf_name': 'cogs160submisson1.pdf',\n",
       "  'image_path': '/Users/tanishqsingh/Desktop/XR_Lab/Extracted_images/page28_img2.png',\n",
       "  'page_number': 28,\n",
       "  'image_width': 1500,\n",
       "  'image_height': 1000,\n",
       "  'image_resolution': '1500x1000',\n",
       "  'is_high_res': True},\n",
       " {'pdf_name': 'cogs160submisson1.pdf',\n",
       "  'image_path': '/Users/tanishqsingh/Desktop/XR_Lab/Extracted_images/page29_img1.png',\n",
       "  'page_number': 29,\n",
       "  'image_width': 1003,\n",
       "  'image_height': 1500,\n",
       "  'image_resolution': '1003x1500',\n",
       "  'is_high_res': False},\n",
       " {'pdf_name': 'cogs160submisson1.pdf',\n",
       "  'image_path': '/Users/tanishqsingh/Desktop/XR_Lab/Extracted_images/page30_img1.png',\n",
       "  'page_number': 30,\n",
       "  'image_width': 800,\n",
       "  'image_height': 533,\n",
       "  'image_resolution': '800x533',\n",
       "  'is_high_res': False},\n",
       " {'pdf_name': 'cogs160submisson1.pdf',\n",
       "  'image_path': '/Users/tanishqsingh/Desktop/XR_Lab/Extracted_images/page30_img2.png',\n",
       "  'page_number': 30,\n",
       "  'image_width': 825,\n",
       "  'image_height': 550,\n",
       "  'image_resolution': '825x550',\n",
       "  'is_high_res': False},\n",
       " {'pdf_name': 'cogs160submisson1.pdf',\n",
       "  'image_path': '/Users/tanishqsingh/Desktop/XR_Lab/Extracted_images/page31_img1.png',\n",
       "  'page_number': 31,\n",
       "  'image_width': 2048,\n",
       "  'image_height': 1365,\n",
       "  'image_resolution': '2048x1365',\n",
       "  'is_high_res': True},\n",
       " {'pdf_name': 'cogs160submisson1.pdf',\n",
       "  'image_path': '/Users/tanishqsingh/Desktop/XR_Lab/Extracted_images/page32_img1.png',\n",
       "  'page_number': 32,\n",
       "  'image_width': 2048,\n",
       "  'image_height': 1542,\n",
       "  'image_resolution': '2048x1542',\n",
       "  'is_high_res': True},\n",
       " {'pdf_name': 'cogs160submisson1.pdf',\n",
       "  'image_path': '/Users/tanishqsingh/Desktop/XR_Lab/Extracted_images/page33_img1.png',\n",
       "  'page_number': 33,\n",
       "  'image_width': 1940,\n",
       "  'image_height': 1293,\n",
       "  'image_resolution': '1940x1293',\n",
       "  'is_high_res': True},\n",
       " {'pdf_name': 'cogs160submisson1.pdf',\n",
       "  'image_path': '/Users/tanishqsingh/Desktop/XR_Lab/Extracted_images/page33_img2.png',\n",
       "  'page_number': 33,\n",
       "  'image_width': 1680,\n",
       "  'image_height': 1260,\n",
       "  'image_resolution': '1680x1260',\n",
       "  'is_high_res': True},\n",
       " {'pdf_name': 'cogs160submisson1.pdf',\n",
       "  'image_path': '/Users/tanishqsingh/Desktop/XR_Lab/Extracted_images/page34_img1.png',\n",
       "  'page_number': 34,\n",
       "  'image_width': 1000,\n",
       "  'image_height': 647,\n",
       "  'image_resolution': '1000x647',\n",
       "  'is_high_res': False},\n",
       " {'pdf_name': 'cogs160submisson1.pdf',\n",
       "  'image_path': '/Users/tanishqsingh/Desktop/XR_Lab/Extracted_images/page34_img2.png',\n",
       "  'page_number': 34,\n",
       "  'image_width': 1200,\n",
       "  'image_height': 744,\n",
       "  'image_resolution': '1200x744',\n",
       "  'is_high_res': True},\n",
       " {'pdf_name': 'cogs160submisson1.pdf',\n",
       "  'image_path': '/Users/tanishqsingh/Desktop/XR_Lab/Extracted_images/page35_img1.png',\n",
       "  'page_number': 35,\n",
       "  'image_width': 1024,\n",
       "  'image_height': 682,\n",
       "  'image_resolution': '1024x682',\n",
       "  'is_high_res': False},\n",
       " {'pdf_name': 'cogs160submisson1.pdf',\n",
       "  'image_path': '/Users/tanishqsingh/Desktop/XR_Lab/Extracted_images/page35_img2.png',\n",
       "  'page_number': 35,\n",
       "  'image_width': 993,\n",
       "  'image_height': 560,\n",
       "  'image_resolution': '993x560',\n",
       "  'is_high_res': False},\n",
       " {'pdf_name': 'cogs160submisson1.pdf',\n",
       "  'image_path': '/Users/tanishqsingh/Desktop/XR_Lab/Extracted_images/page36_img1.png',\n",
       "  'page_number': 36,\n",
       "  'image_width': 1000,\n",
       "  'image_height': 666,\n",
       "  'image_resolution': '1000x666',\n",
       "  'is_high_res': False},\n",
       " {'pdf_name': 'cogs160submisson1.pdf',\n",
       "  'image_path': '/Users/tanishqsingh/Desktop/XR_Lab/Extracted_images/page37_img1.png',\n",
       "  'page_number': 37,\n",
       "  'image_width': 1320,\n",
       "  'image_height': 880,\n",
       "  'image_resolution': '1320x880',\n",
       "  'is_high_res': True},\n",
       " {'pdf_name': 'cogs160submisson1.pdf',\n",
       "  'image_path': '/Users/tanishqsingh/Desktop/XR_Lab/Extracted_images/page38_img1.png',\n",
       "  'page_number': 38,\n",
       "  'image_width': 1365,\n",
       "  'image_height': 2048,\n",
       "  'image_resolution': '1365x2048',\n",
       "  'is_high_res': True},\n",
       " {'pdf_name': 'cogs160submisson1.pdf',\n",
       "  'image_path': '/Users/tanishqsingh/Desktop/XR_Lab/Extracted_images/page39_img1.png',\n",
       "  'page_number': 39,\n",
       "  'image_width': 2000,\n",
       "  'image_height': 1333,\n",
       "  'image_resolution': '2000x1333',\n",
       "  'is_high_res': True},\n",
       " {'pdf_name': 'cogs160submisson1.pdf',\n",
       "  'image_path': '/Users/tanishqsingh/Desktop/XR_Lab/Extracted_images/page39_img2.png',\n",
       "  'page_number': 39,\n",
       "  'image_width': 2048,\n",
       "  'image_height': 1366,\n",
       "  'image_resolution': '2048x1366',\n",
       "  'is_high_res': True},\n",
       " {'pdf_name': 'cogs160submisson1.pdf',\n",
       "  'image_path': '/Users/tanishqsingh/Desktop/XR_Lab/Extracted_images/page40_img1.png',\n",
       "  'page_number': 40,\n",
       "  'image_width': 1000,\n",
       "  'image_height': 666,\n",
       "  'image_resolution': '1000x666',\n",
       "  'is_high_res': False},\n",
       " {'pdf_name': 'cogs160submisson1.pdf',\n",
       "  'image_path': '/Users/tanishqsingh/Desktop/XR_Lab/Extracted_images/page40_img2.png',\n",
       "  'page_number': 40,\n",
       "  'image_width': 2000,\n",
       "  'image_height': 1333,\n",
       "  'image_resolution': '2000x1333',\n",
       "  'is_high_res': True},\n",
       " {'pdf_name': 'cogs160submisson1.pdf',\n",
       "  'image_path': '/Users/tanishqsingh/Desktop/XR_Lab/Extracted_images/page41_img1.png',\n",
       "  'page_number': 41,\n",
       "  'image_width': 2048,\n",
       "  'image_height': 1365,\n",
       "  'image_resolution': '2048x1365',\n",
       "  'is_high_res': True},\n",
       " {'pdf_name': 'cogs160submisson1.pdf',\n",
       "  'image_path': '/Users/tanishqsingh/Desktop/XR_Lab/Extracted_images/page41_img2.png',\n",
       "  'page_number': 41,\n",
       "  'image_width': 2048,\n",
       "  'image_height': 1365,\n",
       "  'image_resolution': '2048x1365',\n",
       "  'is_high_res': True},\n",
       " {'pdf_name': 'cogs160submisson1.pdf',\n",
       "  'image_path': '/Users/tanishqsingh/Desktop/XR_Lab/Extracted_images/page42_img1.png',\n",
       "  'page_number': 42,\n",
       "  'image_width': 1704,\n",
       "  'image_height': 1217,\n",
       "  'image_resolution': '1704x1217',\n",
       "  'is_high_res': True},\n",
       " {'pdf_name': 'cogs160submisson1.pdf',\n",
       "  'image_path': '/Users/tanishqsingh/Desktop/XR_Lab/Extracted_images/page43_img1.png',\n",
       "  'page_number': 43,\n",
       "  'image_width': 1200,\n",
       "  'image_height': 800,\n",
       "  'image_resolution': '1200x800',\n",
       "  'is_high_res': True},\n",
       " {'pdf_name': 'cogs160submisson1.pdf',\n",
       "  'image_path': '/Users/tanishqsingh/Desktop/XR_Lab/Extracted_images/page43_img2.png',\n",
       "  'page_number': 43,\n",
       "  'image_width': 1200,\n",
       "  'image_height': 800,\n",
       "  'image_resolution': '1200x800',\n",
       "  'is_high_res': True},\n",
       " {'pdf_name': 'cogs160submisson1.pdf',\n",
       "  'image_path': '/Users/tanishqsingh/Desktop/XR_Lab/Extracted_images/page44_img1.png',\n",
       "  'page_number': 44,\n",
       "  'image_width': 1200,\n",
       "  'image_height': 518,\n",
       "  'image_resolution': '1200x518',\n",
       "  'is_high_res': True},\n",
       " {'pdf_name': 'cogs160submisson1.pdf',\n",
       "  'image_path': '/Users/tanishqsingh/Desktop/XR_Lab/Extracted_images/page44_img2.png',\n",
       "  'page_number': 44,\n",
       "  'image_width': 1200,\n",
       "  'image_height': 850,\n",
       "  'image_resolution': '1200x850',\n",
       "  'is_high_res': True},\n",
       " {'pdf_name': 'cogs160submisson1.pdf',\n",
       "  'image_path': '/Users/tanishqsingh/Desktop/XR_Lab/Extracted_images/page45_img1.png',\n",
       "  'page_number': 45,\n",
       "  'image_width': 1200,\n",
       "  'image_height': 881,\n",
       "  'image_resolution': '1200x881',\n",
       "  'is_high_res': True},\n",
       " {'pdf_name': 'cogs160submisson1.pdf',\n",
       "  'image_path': '/Users/tanishqsingh/Desktop/XR_Lab/Extracted_images/page45_img2.png',\n",
       "  'page_number': 45,\n",
       "  'image_width': 1200,\n",
       "  'image_height': 800,\n",
       "  'image_resolution': '1200x800',\n",
       "  'is_high_res': True},\n",
       " {'pdf_name': 'cogs160submisson1.pdf',\n",
       "  'image_path': '/Users/tanishqsingh/Desktop/XR_Lab/Extracted_images/page46_img1.png',\n",
       "  'page_number': 46,\n",
       "  'image_width': 1200,\n",
       "  'image_height': 800,\n",
       "  'image_resolution': '1200x800',\n",
       "  'is_high_res': True},\n",
       " {'pdf_name': 'cogs160submisson1.pdf',\n",
       "  'image_path': '/Users/tanishqsingh/Desktop/XR_Lab/Extracted_images/page47_img1.png',\n",
       "  'page_number': 47,\n",
       "  'image_width': 2048,\n",
       "  'image_height': 1366,\n",
       "  'image_resolution': '2048x1366',\n",
       "  'is_high_res': True},\n",
       " {'pdf_name': 'cogs160submisson1.pdf',\n",
       "  'image_path': '/Users/tanishqsingh/Desktop/XR_Lab/Extracted_images/page47_img2.png',\n",
       "  'page_number': 47,\n",
       "  'image_width': 2048,\n",
       "  'image_height': 1366,\n",
       "  'image_resolution': '2048x1366',\n",
       "  'is_high_res': True},\n",
       " {'pdf_name': 'cogs160submisson1.pdf',\n",
       "  'image_path': '/Users/tanishqsingh/Desktop/XR_Lab/Extracted_images/page48_img1.png',\n",
       "  'page_number': 48,\n",
       "  'image_width': 2048,\n",
       "  'image_height': 1353,\n",
       "  'image_resolution': '2048x1353',\n",
       "  'is_high_res': True},\n",
       " {'pdf_name': 'cogs160submisson1.pdf',\n",
       "  'image_path': '/Users/tanishqsingh/Desktop/XR_Lab/Extracted_images/page49_img1.png',\n",
       "  'page_number': 49,\n",
       "  'image_width': 1328,\n",
       "  'image_height': 2048,\n",
       "  'image_resolution': '1328x2048',\n",
       "  'is_high_res': True},\n",
       " {'pdf_name': 'cogs160submisson1.pdf',\n",
       "  'image_path': '/Users/tanishqsingh/Desktop/XR_Lab/Extracted_images/page50_img1.png',\n",
       "  'page_number': 50,\n",
       "  'image_width': 1800,\n",
       "  'image_height': 1201,\n",
       "  'image_resolution': '1800x1201',\n",
       "  'is_high_res': True},\n",
       " {'pdf_name': 'cogs160submisson1.pdf',\n",
       "  'image_path': '/Users/tanishqsingh/Desktop/XR_Lab/Extracted_images/page50_img2.png',\n",
       "  'page_number': 50,\n",
       "  'image_width': 1800,\n",
       "  'image_height': 1201,\n",
       "  'image_resolution': '1800x1201',\n",
       "  'is_high_res': True},\n",
       " {'pdf_name': 'cogs160submisson1.pdf',\n",
       "  'image_path': '/Users/tanishqsingh/Desktop/XR_Lab/Extracted_images/page51_img1.png',\n",
       "  'page_number': 51,\n",
       "  'image_width': 2048,\n",
       "  'image_height': 1271,\n",
       "  'image_resolution': '2048x1271',\n",
       "  'is_high_res': True},\n",
       " {'pdf_name': 'cogs160submisson1.pdf',\n",
       "  'image_path': '/Users/tanishqsingh/Desktop/XR_Lab/Extracted_images/page51_img2.png',\n",
       "  'page_number': 51,\n",
       "  'image_width': 1800,\n",
       "  'image_height': 1172,\n",
       "  'image_resolution': '1800x1172',\n",
       "  'is_high_res': True}]"
      ]
     },
     "execution_count": 13,
     "metadata": {},
     "output_type": "execute_result"
    }
   ],
   "source": [
    "import os\n",
    "import fitz  # PyMuPDF\n",
    "import pandas as pd\n",
    "from PIL import Image\n",
    "from io import BytesIO\n",
    "from tqdm import tqdm\n",
    "import spacy\n",
    "\n",
    "# Load spaCy model\n",
    "nlp = spacy.load(\"en_core_web_sm\")\n",
    "\n",
    "def extract_images_from_pdf(\n",
    "    pdf_path,\n",
    "    min_width=1200,\n",
    "    save_folder=\"/Users/tanishqsingh/Desktop/XR_Lab/Extracted_images\"\n",
    "):\n",
    "    if not os.path.exists(pdf_path):\n",
    "        print(f\"❌ PDF file not found: {pdf_path}\")\n",
    "        return []\n",
    "\n",
    "    print(f\"📄 Extracting images from: {pdf_path}\")\n",
    "    doc = fitz.open(pdf_path)\n",
    "    os.makedirs(save_folder, exist_ok=True)\n",
    "    image_data = []\n",
    "\n",
    "    for page_index in tqdm(range(len(doc)), desc=\"🔍 Processing Pages\"):\n",
    "        page = doc[page_index]\n",
    "        images = page.get_images(full=True)\n",
    "\n",
    "        if not images:\n",
    "            print(f\"⚠️ No images found on page {page_index + 1}\")\n",
    "            continue\n",
    "\n",
    "        for img_index, img in enumerate(images):\n",
    "            xref = img[0]\n",
    "            base_image = doc.extract_image(xref)\n",
    "            image_bytes = base_image[\"image\"]\n",
    "            try:\n",
    "                img_pil = Image.open(BytesIO(image_bytes))\n",
    "            except Exception as e:\n",
    "                print(f\"❌ Failed to load image on page {page_index+1}, img {img_index+1}: {e}\")\n",
    "                continue\n",
    "\n",
    "            width, height = img_pil.size\n",
    "\n",
    "            image_filename = f\"page{page_index+1}_img{img_index+1}.png\"\n",
    "            image_path = os.path.join(save_folder, image_filename)\n",
    "            img_pil.save(image_path)\n",
    "\n",
    "            image_data.append({\n",
    "                \"pdf_name\": os.path.basename(pdf_path),\n",
    "                \"image_path\": image_path,\n",
    "                \"page_number\": page_index + 1,\n",
    "                \"image_width\": width,\n",
    "                \"image_height\": height,\n",
    "                \"image_resolution\": f\"{width}x{height}\",\n",
    "                \"is_high_res\": width >= min_width\n",
    "            })\n",
    "\n",
    "            print(f\"✅ Saved image: {image_filename} ({width}x{height})\")\n",
    "\n",
    "    # Save metadata\n",
    "    if image_data:\n",
    "        metadata_df = pd.DataFrame(image_data)\n",
    "        csv_path = os.path.join(save_folder, \"/Users/tanishqsingh/Desktop/XR_Lab/image_metadata.csv\")\n",
    "        metadata_df.to_csv(csv_path, index=False)\n",
    "        print(f\"\\n✅ Extracted {len(image_data)} images. Metadata saved to:\\n{csv_path}\")\n",
    "    else:\n",
    "        print(\"⚠️ No images were extracted from the PDF.\")\n",
    "\n",
    "    return image_data\n",
    "\n",
    "# 🔽 Example usage: Update this path to your PDF\n",
    "extract_images_from_pdf(\"/Users/tanishqsingh/Desktop/XR_Lab/cogs160submisson1.pdf\")\n",
    "\n"
   ]
  },
  {
   "cell_type": "code",
   "execution_count": 9,
   "metadata": {},
   "outputs": [],
   "source": [
    "import fitz  # PyMuPDF\n",
    "from PIL import Image\n",
    "import io\n",
    "\n",
    "input_path = fitz.open(\"/Users/tanishqsingh/Desktop/XR_Lab/cogs160submisson1.pdf\")\n",
    "output_path = \"/Users/tanishqsingh/Desktop/XR_Lab/compressed_output.pdf\"\n",
    "\n",
    "doc = fitz.open(input_path)\n",
    "new_pdf = fitz.open()\n",
    "\n",
    "for page in doc:\n",
    "    # Render the PDF page as an image\n",
    "    pix = page.get_pixmap(dpi=100)\n",
    "    img = Image.frombytes(\"RGB\", [pix.width, pix.height], pix.samples)\n",
    "\n",
    "    # Resize or compress image\n",
    "    img = img.resize((pix.width // 2, pix.height // 2))  # optional downscale\n",
    "\n",
    "    # Save as a single-page PDF (not JPEG!)\n",
    "    img_buffer = io.BytesIO()\n",
    "    img.save(img_buffer, format=\"PDF\", resolution=100.0)\n",
    "    img_buffer.seek(0)\n",
    "\n",
    "    # Now this buffer is a valid PDF — open it\n",
    "    img_pdf = fitz.open(\"pdf\", img_buffer)\n",
    "    new_pdf.insert_pdf(img_pdf)\n",
    "\n",
    "# Save final compressed output\n",
    "new_pdf.save(output_path)\n",
    "new_pdf.close()\n",
    "doc.close()"
   ]
  },
  {
   "cell_type": "code",
   "execution_count": null,
   "metadata": {},
   "outputs": [],
   "source": []
  }
 ],
 "metadata": {
  "kernelspec": {
   "display_name": "langchain_setup_llama",
   "language": "python",
   "name": "python3"
  },
  "language_info": {
   "codemirror_mode": {
    "name": "ipython",
    "version": 3
   },
   "file_extension": ".py",
   "mimetype": "text/x-python",
   "name": "python",
   "nbconvert_exporter": "python",
   "pygments_lexer": "ipython3",
   "version": "3.10.14"
  }
 },
 "nbformat": 4,
 "nbformat_minor": 2
}

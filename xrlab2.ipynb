{
 "cells": [
  {
   "cell_type": "markdown",
   "metadata": {},
   "source": [
    "COGS 160 Auto-Grader Notebook for Architect Assignments (PDF-Only + Gemini-Enhanced Version)"
   ]
  },
  {
   "cell_type": "markdown",
   "metadata": {},
   "source": [
    "Imports"
   ]
  },
  {
   "cell_type": "code",
   "execution_count": 1,
   "metadata": {},
   "outputs": [
    {
     "name": "stderr",
     "output_type": "stream",
     "text": [
      "/opt/anaconda3/envs/langchain_setup_llama/lib/python3.10/site-packages/tqdm/auto.py:21: TqdmWarning: IProgress not found. Please update jupyter and ipywidgets. See https://ipywidgets.readthedocs.io/en/stable/user_install.html\n",
      "  from .autonotebook import tqdm as notebook_tqdm\n"
     ]
    }
   ],
   "source": [
    "import os\n",
    "import re\n",
    "import json\n",
    "import fitz  \n",
    "from PIL import Image\n",
    "from io import BytesIO\n",
    "from urllib.parse import urlparse\n",
    "import spacy\n",
    "import google.generativeai as genai\n",
    "from IPython.display import display\n",
    "nlp = spacy.load(\"en_core_web_sm\")"
   ]
  },
  {
   "cell_type": "markdown",
   "metadata": {},
   "source": [
    "Gemini API Key"
   ]
  },
  {
   "cell_type": "code",
   "execution_count": 2,
   "metadata": {},
   "outputs": [],
   "source": [
    "from dotenv import load_dotenv\n",
    "load_dotenv()\n",
    "GEMINI_API_KEY = os.getenv(\"GEMINI_API_KEY\")\n",
    "genai.configure(api_key=GEMINI_API_KEY)  # <-- Replace with your actual key\n",
    "text_model = genai.GenerativeModel(\"gemini-1.5-pro-latest\")\n",
    "vision_model = genai.GenerativeModel(\"gemini-pro-vision\")"
   ]
  },
  {
   "cell_type": "markdown",
   "metadata": {},
   "source": [
    "Rubric"
   ]
  },
  {
   "cell_type": "code",
   "execution_count": 3,
   "metadata": {},
   "outputs": [],
   "source": [
    "rubric = {\n",
    "    \"architect_chosen\": 5,\n",
    "    \"bio_750_words\": 10,\n",
    "    \"bio_structure\": 10,\n",
    "    \"bio_references\": 10,\n",
    "    \"10_buildings_with_images\": 15,\n",
    "    \"image_quality\": 10,\n",
    "    \"image_citations\": 10,\n",
    "    \"personal_bio_photo\": 5,\n",
    "    \"doc_and_slides\": 5,\n",
    "    \"image_relevance\": 10,\n",
    "    \"presentation_polish\": 20,\n",
    "}"
   ]
  },
  {
   "cell_type": "markdown",
   "metadata": {},
   "source": [
    "PDF Text Extraction"
   ]
  },
  {
   "cell_type": "code",
   "execution_count": 4,
   "metadata": {},
   "outputs": [],
   "source": [
    "pdf_path = \"/Users/tanishqsingh/Downloads/cogs160submisson1.pdf\""
   ]
  },
  {
   "cell_type": "code",
   "execution_count": 5,
   "metadata": {},
   "outputs": [],
   "source": [
    "def extract_text_from_pdf(pdf_path):\n",
    "    print(f\" Extracting text from: {pdf_path}\")\n",
    "    text = \"\"\n",
    "    doc = fitz.open(pdf_path)\n",
    "    for page in doc:\n",
    "        text += page.get_text()\n",
    "    print(\" Extracted text from PDF\")\n",
    "    return text"
   ]
  },
  {
   "cell_type": "markdown",
   "metadata": {},
   "source": [
    "Extract images from PDF"
   ]
  },
  {
   "cell_type": "code",
   "execution_count": 6,
   "metadata": {},
   "outputs": [],
   "source": [
    "def extract_images_from_pdf(pdf_path, min_width=1200):\n",
    "    print(f\"Extracting images from: {pdf_path}\")\n",
    "    doc = fitz.open(pdf_path)\n",
    "    image_data = []\n",
    "    for page_index in range(len(doc)):\n",
    "        images = doc.get_page_images(page_index)\n",
    "        for img_index, img in enumerate(images):\n",
    "            xref = img[0]\n",
    "            base_image = doc.extract_image(xref)\n",
    "            image_bytes = base_image[\"image\"]\n",
    "            img_pil = Image.open(BytesIO(image_bytes))\n",
    "            width, height = img_pil.size\n",
    "            image_data.append({\n",
    "                \"page\": page_index + 1,\n",
    "                \"width\": width,\n",
    "                \"height\": height,\n",
    "                \"image\": img_pil,\n",
    "                \"is_high_res\": width >= min_width\n",
    "            })\n",
    "    print(f\" Extracted {len(image_data)} images from PDF\")\n",
    "    return image_data"
   ]
  },
  {
   "cell_type": "markdown",
   "metadata": {},
   "source": [
    "Evaluate biography structure & word count"
   ]
  },
  {
   "cell_type": "code",
   "execution_count": 7,
   "metadata": {},
   "outputs": [],
   "source": [
    "def evaluate_biography(text):\n",
    "    print(\" Evaluating biography: checking word count and required sections\")\n",
    "    result = {}\n",
    "    doc = nlp(text)\n",
    "    result[\"word_count\"] = len([token.text for token in doc if token.is_alpha])\n",
    "    required_sections = [\"who they are\", \"studied\", \"first building\", \"significance\", \"influence\"]\n",
    "    section_hits = sum([1 for section in required_sections if section.lower() in text.lower()])\n",
    "    result[\"structure_score\"] = int((section_hits / len(required_sections)) * rubric[\"bio_structure\"])\n",
    "    result[\"score\"] = rubric[\"bio_750_words\"] if result[\"word_count\"] >= 700 else int((result[\"word_count\"] / 750) * rubric[\"bio_750_words\"])\n",
    "    return result"
   ]
  },
  {
   "cell_type": "markdown",
   "metadata": {},
   "source": [
    "Gemini Bio Evaluation"
   ]
  },
  {
   "cell_type": "code",
   "execution_count": 8,
   "metadata": {},
   "outputs": [],
   "source": [
    "def gemini_bio_score(text, architect_name):\n",
    "    print(f\" Sending biography text to Gemini for evaluation of {architect_name}\")\n",
    "    prompt = f\"\"\"\n",
    "You are grading a student's biography of the architect {architect_name}.\n",
    "Evaluate:\n",
    "- Who they are\n",
    "- What they’re famous for\n",
    "- Where they studied\n",
    "- Significance in architecture\n",
    "- Influence of buildings\n",
    "- Types of buildings\n",
    "- First building attributed\n",
    "Give a score out of 10 and 1-paragraph feedback.\n",
    "\"\"\"\n",
    "    response = text_model.generate_content([prompt, text])\n",
    "    return response.text"
   ]
  },
  {
   "cell_type": "markdown",
   "metadata": {},
   "source": [
    "Extract references from text"
   ]
  },
  {
   "cell_type": "code",
   "execution_count": 9,
   "metadata": {},
   "outputs": [],
   "source": [
    "def extract_references_from_text(text):\n",
    "    print(\" Extracting references from text\")\n",
    "    lines = text.split(\"\\n\")\n",
    "    references = []\n",
    "    for line in lines:\n",
    "        if re.search(r\"\\(\\d{4}\\)\", line) and any(x in line.lower() for x in [\"doi\", \"archdaily\", \"e-architect\", \"https://\"]):\n",
    "            references.append(line.strip())\n",
    "    return references"
   ]
  },
  {
   "cell_type": "markdown",
   "metadata": {},
   "source": [
    "Score references"
   ]
  },
  {
   "cell_type": "code",
   "execution_count": 10,
   "metadata": {},
   "outputs": [],
   "source": [
    "def evaluate_references(ref_list):\n",
    "    print(\" Evaluating references\")\n",
    "    return {\"valid_references\": len(ref_list), \"score\": min(len(ref_list), rubric[\"bio_references\"])}"
   ]
  },
  {
   "cell_type": "markdown",
   "metadata": {},
   "source": [
    " Score image resolution"
   ]
  },
  {
   "cell_type": "code",
   "execution_count": 11,
   "metadata": {},
   "outputs": [],
   "source": [
    "def evaluate_image_quality(image_data):\n",
    "    print(\" Evaluating image resolution\")\n",
    "    high_res_count = sum(1 for img in image_data if img[\"is_high_res\"])\n",
    "    return {\"high_res_count\": high_res_count, \"score\": int((high_res_count / max(1, len(image_data))) * rubric[\"image_quality\"])}"
   ]
  },
  {
   "cell_type": "markdown",
   "metadata": {},
   "source": [
    "Gemini: score image relevance"
   ]
  },
  {
   "cell_type": "code",
   "execution_count": 12,
   "metadata": {},
   "outputs": [],
   "source": [
    "def evaluate_image_relevance(image_data, architect_name):\n",
    "    print(\"🔍 Evaluating image relevance using Gemini\")\n",
    "    relevance_scores = []\n",
    "    for img in image_data:\n",
    "        prompt = f\"\"\"\n",
    "You are evaluating whether this image is relevant to a project on the architect {architect_name}.\n",
    "1. Does this image depict a building by {architect_name}? If yes, say which building if you can.\n",
    "2. Is this an interior or exterior shot?\n",
    "3. Is this a high-quality academic image that clearly shows architectural features (composition, lighting, layout)?\n",
    "Give a score out of 10 for academic relevance with a brief justification.\n",
    "\"\"\"\n",
    "        try:\n",
    "            response = vision_model.generate_content([img[\"image\"], prompt])\n",
    "            match = re.search(r\"(\\d{1,2})/10\", response.text)\n",
    "            score = int(match.group(1)) if match else 5\n",
    "        except:\n",
    "            score = 5\n",
    "        relevance_scores.append(score)\n",
    "    avg_score = sum(relevance_scores) / max(1, len(relevance_scores))\n",
    "    return {\"avg_score\": avg_score, \"score\": int((avg_score / 10) * rubric[\"image_relevance\"])}"
   ]
  },
  {
   "cell_type": "markdown",
   "metadata": {},
   "source": [
    "Gemini: score remaining rubric items"
   ]
  },
  {
   "cell_type": "code",
   "execution_count": null,
   "metadata": {},
   "outputs": [],
   "source": [
    "def gemini_full_rubric_eval(text, architect_name):\n",
    "    print(\"🔍 Gemini evaluating extended rubric\")\n",
    "    prompt = (\n",
    "        f\"\"\"\n",
    "You are grading a student submission for a university architecture course. The project includes:\n",
    "\n",
    "- A biography of {architect_name}\n",
    "- 10 buildings they designed, with exterior and interior images\n",
    "- Proper image citations\n",
    "- 5–10 academic references\n",
    "- A personal student bio and image\n",
    "\n",
    "Follow this official rubric, scoring each from 1–5:\n",
    "\n",
    "1. **Architect Selection & Scope** – Is the architect from Book Two? Is the scope appropriate?\n",
    "2. **Organization & Doc Setup** – Table of contents? Clear sections? Logical structure?\n",
    "3. **Image Citation & Attribution** – Are URLs provided? Are captions included under each image?\n",
    "4. **Coverage of 10 Buildings** – Are there 10 buildings? With 5+ interior images per building?\n",
    "5. **Student Bio & Photo** – Is the student’s 1-page bio included after the main content? Is the photo clear and professional?\n",
    "6. **Presentation Polish** – Consistent formatting, readability, academic tone, clean layout\n",
    "\n",
    "For each category, give a score from 1 (poor) to 5 (excellent), and justify briefly.\n",
    "\"\"\"\n",
    "    )\n",
    "    response = text_model.generate_content([prompt, text])\n",
    "    print(response.text)\n",
    "    def extract_score(label):\n",
    "        match = re.search(label + r\".*?(\\d{1})\", response.text, re.IGNORECASE)\n",
    "        return int(match.group(1)) if match else 3\n",
    "\n",
    "    return {\n",
    "        \"architect_chosen\": {\"score\": extract_score(\"Architect Selection\")},\n",
    "        \"doc_and_slides\": {\"score\": extract_score(\"Organization\")},\n",
    "        \"image_citations\": {\"score\": extract_score(\"Image Citation\")},\n",
    "        \"10_buildings_with_images\": {\"score\": extract_score(\"Coverage\")},\n",
    "        \"personal_bio_photo\": {\"score\": extract_score(\"Personal Bio\")},\n",
    "        \"presentation_polish\": {\"score\": extract_score(\"Presentation\")},\n",
    "    }"
   ]
  },
  {
   "cell_type": "markdown",
   "metadata": {},
   "source": [
    "Score aggregation"
   ]
  },
  {
   "cell_type": "code",
   "execution_count": 15,
   "metadata": {},
   "outputs": [],
   "source": [
    "def generate_scorecard(scores):\n",
    "    print(\" Generating scorecard\")\n",
    "    total = sum([v[\"score\"] for v in scores.values()])\n",
    "    return {\n",
    "        \"scorecard\": {k: v[\"score\"] for k, v in scores.items()},\n",
    "        \"final_score\": total,\n",
    "        \"grade\": \"A\" if total >= 90 else \"B\" if total >= 80 else \"C\" if total >= 70 else \"D\",\n",
    "        \"details\": scores\n",
    "    }"
   ]
  },
  {
   "cell_type": "markdown",
   "metadata": {},
   "source": [
    "Main pipeline"
   ]
  },
  {
   "cell_type": "code",
   "execution_count": 16,
   "metadata": {},
   "outputs": [],
   "source": [
    "def run_autograder(pdf_path, architect_name=\"Bjarke Ingels\"):\n",
    "    print(\"🚀 Starting pipeline\")\n",
    "    doc_text = extract_text_from_pdf(pdf_path)\n",
    "    images = extract_images_from_pdf(pdf_path)\n",
    "    references = extract_references_from_text(doc_text)\n",
    "\n",
    "    scores = {\n",
    "        \"bio_750_words\": {\"score\": evaluate_biography(doc_text)[\"score\"]},\n",
    "        \"bio_structure\": {\"score\": evaluate_biography(doc_text)[\"structure_score\"]},\n",
    "        \"bio_references\": evaluate_references(references),\n",
    "        \"image_quality\": evaluate_image_quality(images),\n",
    "        \"image_relevance\": evaluate_image_relevance(images, architect_name)\n",
    "    }\n",
    "\n",
    "    # Merge in Gemini rubric items\n",
    "    gemini_scores = gemini_full_rubric_eval(doc_text, architect_name)\n",
    "    scores.update(gemini_scores)\n",
    "\n",
    "    # Optional Gemini bio feedback (unscored)\n",
    "    bio_feedback = gemini_bio_score(doc_text, architect_name)\n",
    "    print(\"\\n Gemini Feedback on Bio:\\n\", bio_feedback)\n",
    "\n",
    "    return generate_scorecard(scores)"
   ]
  },
  {
   "cell_type": "code",
   "execution_count": 17,
   "metadata": {},
   "outputs": [
    {
     "name": "stdout",
     "output_type": "stream",
     "text": [
      "🚀 Starting pipeline\n",
      " Extracting text from: /Users/tanishqsingh/Downloads/cogs160submisson1.pdf\n",
      " Extracted text from PDF\n",
      "Extracting images from: /Users/tanishqsingh/Downloads/cogs160submisson1.pdf\n",
      " Extracted 79 images from PDF\n",
      " Extracting references from text\n",
      " Evaluating biography: checking word count and required sections\n",
      " Evaluating biography: checking word count and required sections\n",
      " Evaluating references\n",
      " Evaluating image resolution\n",
      "🔍 Evaluating image relevance using Gemini\n",
      "🔍 Gemini evaluating extended rubric\n",
      "Here's a grading and feedback breakdown for the Bjarke Ingels student project:\n",
      "\n",
      "**1. Architect Selection & Scope (5/5):** Excellent choice. Bjarke Ingels is a highly relevant and influential contemporary architect. The scope of covering his biography, key works, and design philosophy is appropriate for a student project.\n",
      "\n",
      "**2. Organization & Doc Setup (3/5):** While the table of contents and sections are present, the document's structure could be improved. The biography section is very long and repetitive. Condensing it and integrating it with the project discussions would create a more engaging flow.  The \"Personal Information\" section about Ingels should be within his biography, not separate.  Also, the student bio should come *after* the main content on Ingels, as an appendix. The page numbering is also off.\n",
      "\n",
      "**3. Image Citation & Attribution (2/5):**  Weakest area.  Simply listing URLs is insufficient.  Each image needs proper attribution (photographer/source, date if available) ideally formatted as captions beneath the images. The repetition of the same URL multiple times under one building suggests a misunderstanding of citation practices.\n",
      "\n",
      "**4. Coverage of 10 Famous Buildings (4/5):** Good selection of projects. The descriptions provide a decent overview of each building's key features and significance.  Including both exterior and interior images is a plus. However, the analysis could be deeper, exploring the connection between the projects and Ingels's design philosophies more explicitly.\n",
      "\n",
      "**5. Personal Bio & Photo (4/5):**  The student bio is well-written and expresses a clear interest in the topic. However, no photo is included as required.\n",
      "\n",
      "**6. Overall Presentation & Polish (3/5):**  The document lacks visual polish. The presentation is quite text-heavy.  Incorporating more images, using better formatting (e.g., subheadings, bullet points), and tighter integration of text and visuals would greatly enhance readability and engagement. The repetitive sections in the biography need editing.\n",
      "\n",
      "**Overall Feedback:**\n",
      "\n",
      "The project demonstrates a good understanding of Bjarke Ingels's work and significance. However, it needs significant improvement in image citation, document organization, and overall presentation.  The writing is generally good, but editing for conciseness and clarity, especially in the biography section, is essential.  Adding visual appeal and strengthening the connections between Ingels's philosophy and individual projects would elevate the project to the next level.\n",
      "\n",
      " Sending biography text to Gemini for evaluation of Bjarke Ingels\n",
      "\n",
      " Gemini Feedback on Bio:\n",
      " Score: 6/10\n",
      "\n",
      "This biography provides a good overview of Bjarke Ingels' work, highlighting key projects and his design philosophy of \"hedonistic sustainability\" and \"utopian pragmatism.\"  It successfully showcases the breadth of his projects, from residential buildings like 8 House and Mountain Dwellings to public infrastructure like CopenHill and The Dryline.  However, it lacks crucial biographical information, such as where Ingels studied architecture (Royal Danish Academy of Fine Arts and Escola Tècnica Superior d'Arquitectura in Barcelona) and which building is considered his first (VM Houses). The repeated biography section is redundant.  While the project descriptions are engaging, they lean heavily on external links instead of providing more in-depth analysis of the buildings' significance and influence.  Furthermore, the \"Academic References\" section, while present, could be better integrated into the text to support the claims made about Ingels' influence. Streamlining the repetitive biographical information and replacing some of the links with stronger analytical text would greatly enhance this biography.\n",
      "\n",
      " Generating scorecard\n",
      "{\n",
      "  \"scorecard\": {\n",
      "    \"bio_750_words\": 10,\n",
      "    \"bio_structure\": 6,\n",
      "    \"bio_references\": 0,\n",
      "    \"image_quality\": 6,\n",
      "    \"image_relevance\": 5,\n",
      "    \"architect_chosen\": 5,\n",
      "    \"doc_and_slides\": 3,\n",
      "    \"image_citations\": 2,\n",
      "    \"10_buildings_with_images\": 1,\n",
      "    \"personal_bio_photo\": 4,\n",
      "    \"presentation_polish\": 3\n",
      "  },\n",
      "  \"final_score\": 45,\n",
      "  \"grade\": \"D\",\n",
      "  \"details\": {\n",
      "    \"bio_750_words\": {\n",
      "      \"score\": 10\n",
      "    },\n",
      "    \"bio_structure\": {\n",
      "      \"score\": 6\n",
      "    },\n",
      "    \"bio_references\": {\n",
      "      \"valid_references\": 0,\n",
      "      \"score\": 0\n",
      "    },\n",
      "    \"image_quality\": {\n",
      "      \"high_res_count\": 49,\n",
      "      \"score\": 6\n",
      "    },\n",
      "    \"image_relevance\": {\n",
      "      \"avg_score\": 5.0,\n",
      "      \"score\": 5\n",
      "    },\n",
      "    \"architect_chosen\": {\n",
      "      \"score\": 5\n",
      "    },\n",
      "    \"doc_and_slides\": {\n",
      "      \"score\": 3\n",
      "    },\n",
      "    \"image_citations\": {\n",
      "      \"score\": 2\n",
      "    },\n",
      "    \"10_buildings_with_images\": {\n",
      "      \"score\": 1\n",
      "    },\n",
      "    \"personal_bio_photo\": {\n",
      "      \"score\": 4\n",
      "    },\n",
      "    \"presentation_polish\": {\n",
      "      \"score\": 3\n",
      "    }\n",
      "  }\n",
      "}\n"
     ]
    }
   ],
   "source": [
    "result = run_autograder(pdf_path, \"Bjarke Ingels\")  \n",
    "print(json.dumps(result, indent=2))"
   ]
  },
  {
   "cell_type": "code",
   "execution_count": null,
   "metadata": {},
   "outputs": [],
   "source": []
  }
 ],
 "metadata": {
  "kernelspec": {
   "display_name": "langchain_setup_llama",
   "language": "python",
   "name": "python3"
  },
  "language_info": {
   "codemirror_mode": {
    "name": "ipython",
    "version": 3
   },
   "file_extension": ".py",
   "mimetype": "text/x-python",
   "name": "python",
   "nbconvert_exporter": "python",
   "pygments_lexer": "ipython3",
   "version": "3.10.14"
  }
 },
 "nbformat": 4,
 "nbformat_minor": 2
}
